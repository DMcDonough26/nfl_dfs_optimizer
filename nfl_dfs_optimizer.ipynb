{
 "cells": [
  {
   "cell_type": "markdown",
   "metadata": {},
   "source": [
    "# NFL DFS Optimizer\n",
    "#### Developed by Dan McDonough\n",
    "#### Updated April 14, 2023"
   ]
  },
  {
   "cell_type": "markdown",
   "metadata": {},
   "source": [
    "The purpose of this notebook is to help construct an optimal DFS lineup for the week.\n",
    "\n",
    "I don't have a whole lot of NFL domain knowledge, so I didn't want to spend time trying to build a player projection model. Instead, I wanted to try to build competitive advantage in my league by being able to maximize the number of projected points drafted, with a given set of projections taken as ground truth."
   ]
  },
  {
   "cell_type": "code",
   "execution_count": 1,
   "metadata": {},
   "outputs": [],
   "source": [
    "import requests\n",
    "import urllib.request\n",
    "import time\n",
    "from bs4 import BeautifulSoup\n",
    "import pandas as pd\n",
    "import random\n",
    "import timeit\n",
    "import numpy as np\n",
    "from pulp import *\n",
    "\n",
    "from get_data import scrape_qb, scrape_rb, scrape_wr, scrape_te, scrape_dst, clean_dst, combine_projections,\\\n",
    "                        clean_name, get_salaries, check_players\n",
    "from apply_scoring import get_scoring_dict, qb_scoring, rb_scoring, wr_scoring, te_scoring, dst_scoring"
   ]
  },
  {
   "cell_type": "markdown",
   "metadata": {},
   "source": [
    "### 1. Scrape Projections"
   ]
  },
  {
   "cell_type": "markdown",
   "metadata": {},
   "source": [
    "First, I need to scrape a source of fantasy projections. For my purposes, I am going to treat these projections as truth, and determine how to optimally select a lineup that maximizes the number of projected fantasy points."
   ]
  },
  {
   "cell_type": "code",
   "execution_count": 2,
   "metadata": {},
   "outputs": [],
   "source": [
    "week = 11\n",
    "droplist = ['TEN','GB','KC','LAC','SF','ARI','JAC','MIA','SEA','TB']"
   ]
  },
  {
   "cell_type": "markdown",
   "metadata": {},
   "source": [
    "#### QB Projections"
   ]
  },
  {
   "cell_type": "code",
   "execution_count": 3,
   "metadata": {
    "scrolled": false
   },
   "outputs": [
    {
     "data": {
      "text/html": [
       "<div>\n",
       "<style scoped>\n",
       "    .dataframe tbody tr th:only-of-type {\n",
       "        vertical-align: middle;\n",
       "    }\n",
       "\n",
       "    .dataframe tbody tr th {\n",
       "        vertical-align: top;\n",
       "    }\n",
       "\n",
       "    .dataframe thead th {\n",
       "        text-align: right;\n",
       "    }\n",
       "</style>\n",
       "<table border=\"1\" class=\"dataframe\">\n",
       "  <thead>\n",
       "    <tr style=\"text-align: right;\">\n",
       "      <th></th>\n",
       "      <th>player_stat</th>\n",
       "      <th>team</th>\n",
       "      <th>attempts</th>\n",
       "      <th>completions</th>\n",
       "      <th>yards</th>\n",
       "      <th>touchdowns</th>\n",
       "      <th>interceptions</th>\n",
       "      <th>rush_attempts</th>\n",
       "      <th>rush_yards</th>\n",
       "      <th>rush_tds</th>\n",
       "      <th>fumbles</th>\n",
       "    </tr>\n",
       "  </thead>\n",
       "  <tbody>\n",
       "    <tr>\n",
       "      <th>0</th>\n",
       "      <td>Marcus Mariota</td>\n",
       "      <td>PHI</td>\n",
       "      <td>24.4</td>\n",
       "      <td>15.6</td>\n",
       "      <td>187.5</td>\n",
       "      <td>1.3</td>\n",
       "      <td>0.5</td>\n",
       "      <td>5.7</td>\n",
       "      <td>34.6</td>\n",
       "      <td>0.2</td>\n",
       "      <td>0.2</td>\n",
       "    </tr>\n",
       "    <tr>\n",
       "      <th>1</th>\n",
       "      <td>Russell Wilson</td>\n",
       "      <td>DEN</td>\n",
       "      <td>33.4</td>\n",
       "      <td>20.4</td>\n",
       "      <td>241.7</td>\n",
       "      <td>1.3</td>\n",
       "      <td>0.7</td>\n",
       "      <td>4.0</td>\n",
       "      <td>16.0</td>\n",
       "      <td>0.1</td>\n",
       "      <td>0.2</td>\n",
       "    </tr>\n",
       "    <tr>\n",
       "      <th>2</th>\n",
       "      <td>Jimmy Garoppolo</td>\n",
       "      <td>LV</td>\n",
       "      <td>31.6</td>\n",
       "      <td>21.2</td>\n",
       "      <td>256.1</td>\n",
       "      <td>1.5</td>\n",
       "      <td>0.8</td>\n",
       "      <td>1.8</td>\n",
       "      <td>3.9</td>\n",
       "      <td>0.1</td>\n",
       "      <td>0.2</td>\n",
       "    </tr>\n",
       "    <tr>\n",
       "      <th>3</th>\n",
       "      <td>Taylor Heinicke</td>\n",
       "      <td>ATL</td>\n",
       "      <td>32.5</td>\n",
       "      <td>20.6</td>\n",
       "      <td>229.0</td>\n",
       "      <td>1.2</td>\n",
       "      <td>0.9</td>\n",
       "      <td>3.7</td>\n",
       "      <td>14.0</td>\n",
       "      <td>0.1</td>\n",
       "      <td>0.2</td>\n",
       "    </tr>\n",
       "    <tr>\n",
       "      <th>4</th>\n",
       "      <td>Jacoby Brissett</td>\n",
       "      <td>WAS</td>\n",
       "      <td>32.6</td>\n",
       "      <td>20.6</td>\n",
       "      <td>222.3</td>\n",
       "      <td>1.1</td>\n",
       "      <td>0.6</td>\n",
       "      <td>4.7</td>\n",
       "      <td>18.9</td>\n",
       "      <td>0.1</td>\n",
       "      <td>0.2</td>\n",
       "    </tr>\n",
       "  </tbody>\n",
       "</table>\n",
       "</div>"
      ],
      "text/plain": [
       "       player_stat team  attempts  completions  yards  touchdowns  \\\n",
       "0   Marcus Mariota  PHI      24.4         15.6  187.5         1.3   \n",
       "1   Russell Wilson  DEN      33.4         20.4  241.7         1.3   \n",
       "2  Jimmy Garoppolo   LV      31.6         21.2  256.1         1.5   \n",
       "3  Taylor Heinicke  ATL      32.5         20.6  229.0         1.2   \n",
       "4  Jacoby Brissett  WAS      32.6         20.6  222.3         1.1   \n",
       "\n",
       "   interceptions  rush_attempts  rush_yards  rush_tds  fumbles  \n",
       "0            0.5            5.7        34.6       0.2      0.2  \n",
       "1            0.7            4.0        16.0       0.1      0.2  \n",
       "2            0.8            1.8         3.9       0.1      0.2  \n",
       "3            0.9            3.7        14.0       0.1      0.2  \n",
       "4            0.6            4.7        18.9       0.1      0.2  "
      ]
     },
     "execution_count": 3,
     "metadata": {},
     "output_type": "execute_result"
    }
   ],
   "source": [
    "qb_projections = scrape_qb(week)\n",
    "qb_projections.head()"
   ]
  },
  {
   "cell_type": "markdown",
   "metadata": {},
   "source": [
    "Next, I will add scoring for Draft Kings"
   ]
  },
  {
   "cell_type": "code",
   "execution_count": 4,
   "metadata": {},
   "outputs": [
    {
     "data": {
      "text/html": [
       "<div>\n",
       "<style scoped>\n",
       "    .dataframe tbody tr th:only-of-type {\n",
       "        vertical-align: middle;\n",
       "    }\n",
       "\n",
       "    .dataframe tbody tr th {\n",
       "        vertical-align: top;\n",
       "    }\n",
       "\n",
       "    .dataframe thead th {\n",
       "        text-align: right;\n",
       "    }\n",
       "</style>\n",
       "<table border=\"1\" class=\"dataframe\">\n",
       "  <thead>\n",
       "    <tr style=\"text-align: right;\">\n",
       "      <th></th>\n",
       "      <th>player_stat</th>\n",
       "      <th>team</th>\n",
       "      <th>attempts</th>\n",
       "      <th>completions</th>\n",
       "      <th>yards</th>\n",
       "      <th>touchdowns</th>\n",
       "      <th>interceptions</th>\n",
       "      <th>rush_attempts</th>\n",
       "      <th>rush_yards</th>\n",
       "      <th>rush_tds</th>\n",
       "      <th>fumbles</th>\n",
       "      <th>points</th>\n",
       "    </tr>\n",
       "  </thead>\n",
       "  <tbody>\n",
       "    <tr>\n",
       "      <th>0</th>\n",
       "      <td>Marcus Mariota</td>\n",
       "      <td>PHI</td>\n",
       "      <td>24.4</td>\n",
       "      <td>15.6</td>\n",
       "      <td>187.5</td>\n",
       "      <td>1.3</td>\n",
       "      <td>0.5</td>\n",
       "      <td>5.7</td>\n",
       "      <td>34.6</td>\n",
       "      <td>0.2</td>\n",
       "      <td>0.2</td>\n",
       "      <td>16.66</td>\n",
       "    </tr>\n",
       "  </tbody>\n",
       "</table>\n",
       "</div>"
      ],
      "text/plain": [
       "      player_stat team  attempts  completions  yards  touchdowns  \\\n",
       "0  Marcus Mariota  PHI      24.4         15.6  187.5         1.3   \n",
       "\n",
       "   interceptions  rush_attempts  rush_yards  rush_tds  fumbles  points  \n",
       "0            0.5            5.7        34.6       0.2      0.2   16.66  "
      ]
     },
     "execution_count": 4,
     "metadata": {},
     "output_type": "execute_result"
    }
   ],
   "source": [
    "scoring_dict = get_scoring_dict()\n",
    "qb_projections['points'] = qb_projections.apply(qb_scoring, args =(scoring_dict, ), axis=1)\n",
    "qb_projections.head(1)"
   ]
  },
  {
   "cell_type": "markdown",
   "metadata": {},
   "source": [
    "#### RB"
   ]
  },
  {
   "cell_type": "code",
   "execution_count": 5,
   "metadata": {
    "scrolled": true
   },
   "outputs": [
    {
     "data": {
      "text/html": [
       "<div>\n",
       "<style scoped>\n",
       "    .dataframe tbody tr th:only-of-type {\n",
       "        vertical-align: middle;\n",
       "    }\n",
       "\n",
       "    .dataframe tbody tr th {\n",
       "        vertical-align: top;\n",
       "    }\n",
       "\n",
       "    .dataframe thead th {\n",
       "        text-align: right;\n",
       "    }\n",
       "</style>\n",
       "<table border=\"1\" class=\"dataframe\">\n",
       "  <thead>\n",
       "    <tr style=\"text-align: right;\">\n",
       "      <th></th>\n",
       "      <th>player_stat</th>\n",
       "      <th>team</th>\n",
       "      <th>rush_attempts</th>\n",
       "      <th>rush_yards</th>\n",
       "      <th>rush_tds</th>\n",
       "      <th>receptions</th>\n",
       "      <th>receive_yards</th>\n",
       "      <th>receive_tds</th>\n",
       "      <th>fumbles</th>\n",
       "    </tr>\n",
       "  </thead>\n",
       "  <tbody>\n",
       "    <tr>\n",
       "      <th>0</th>\n",
       "      <td>Saquon Barkley</td>\n",
       "      <td>NYG</td>\n",
       "      <td>22.2</td>\n",
       "      <td>101.6</td>\n",
       "      <td>0.8</td>\n",
       "      <td>3.0</td>\n",
       "      <td>24.4</td>\n",
       "      <td>0.1</td>\n",
       "      <td>0.1</td>\n",
       "    </tr>\n",
       "    <tr>\n",
       "      <th>1</th>\n",
       "      <td>Derrick Henry</td>\n",
       "      <td>TEN</td>\n",
       "      <td>21.2</td>\n",
       "      <td>98.0</td>\n",
       "      <td>0.8</td>\n",
       "      <td>1.8</td>\n",
       "      <td>13.9</td>\n",
       "      <td>0.0</td>\n",
       "      <td>0.1</td>\n",
       "    </tr>\n",
       "    <tr>\n",
       "      <th>2</th>\n",
       "      <td>Christian McCaffrey</td>\n",
       "      <td>SF</td>\n",
       "      <td>14.2</td>\n",
       "      <td>63.6</td>\n",
       "      <td>0.6</td>\n",
       "      <td>4.8</td>\n",
       "      <td>40.8</td>\n",
       "      <td>0.2</td>\n",
       "      <td>0.1</td>\n",
       "    </tr>\n",
       "    <tr>\n",
       "      <th>3</th>\n",
       "      <td>Austin Ekeler</td>\n",
       "      <td>LAC</td>\n",
       "      <td>11.7</td>\n",
       "      <td>52.4</td>\n",
       "      <td>0.6</td>\n",
       "      <td>6.2</td>\n",
       "      <td>46.9</td>\n",
       "      <td>0.3</td>\n",
       "      <td>0.1</td>\n",
       "    </tr>\n",
       "    <tr>\n",
       "      <th>4</th>\n",
       "      <td>Joe Mixon</td>\n",
       "      <td>CIN</td>\n",
       "      <td>17.1</td>\n",
       "      <td>68.3</td>\n",
       "      <td>0.6</td>\n",
       "      <td>3.8</td>\n",
       "      <td>29.8</td>\n",
       "      <td>0.2</td>\n",
       "      <td>0.1</td>\n",
       "    </tr>\n",
       "  </tbody>\n",
       "</table>\n",
       "</div>"
      ],
      "text/plain": [
       "           player_stat team  rush_attempts  rush_yards  rush_tds  receptions  \\\n",
       "0       Saquon Barkley  NYG           22.2       101.6       0.8         3.0   \n",
       "1        Derrick Henry  TEN           21.2        98.0       0.8         1.8   \n",
       "2  Christian McCaffrey   SF           14.2        63.6       0.6         4.8   \n",
       "3        Austin Ekeler  LAC           11.7        52.4       0.6         6.2   \n",
       "4            Joe Mixon  CIN           17.1        68.3       0.6         3.8   \n",
       "\n",
       "   receive_yards  receive_tds  fumbles  \n",
       "0           24.4          0.1      0.1  \n",
       "1           13.9          0.0      0.1  \n",
       "2           40.8          0.2      0.1  \n",
       "3           46.9          0.3      0.1  \n",
       "4           29.8          0.2      0.1  "
      ]
     },
     "execution_count": 5,
     "metadata": {},
     "output_type": "execute_result"
    }
   ],
   "source": [
    "rb_projections = scrape_rb(week,80)\n",
    "rb_projections.head()"
   ]
  },
  {
   "cell_type": "code",
   "execution_count": 6,
   "metadata": {},
   "outputs": [
    {
     "data": {
      "text/html": [
       "<div>\n",
       "<style scoped>\n",
       "    .dataframe tbody tr th:only-of-type {\n",
       "        vertical-align: middle;\n",
       "    }\n",
       "\n",
       "    .dataframe tbody tr th {\n",
       "        vertical-align: top;\n",
       "    }\n",
       "\n",
       "    .dataframe thead th {\n",
       "        text-align: right;\n",
       "    }\n",
       "</style>\n",
       "<table border=\"1\" class=\"dataframe\">\n",
       "  <thead>\n",
       "    <tr style=\"text-align: right;\">\n",
       "      <th></th>\n",
       "      <th>player_stat</th>\n",
       "      <th>team</th>\n",
       "      <th>rush_attempts</th>\n",
       "      <th>rush_yards</th>\n",
       "      <th>rush_tds</th>\n",
       "      <th>receptions</th>\n",
       "      <th>receive_yards</th>\n",
       "      <th>receive_tds</th>\n",
       "      <th>fumbles</th>\n",
       "      <th>points</th>\n",
       "    </tr>\n",
       "  </thead>\n",
       "  <tbody>\n",
       "    <tr>\n",
       "      <th>0</th>\n",
       "      <td>Saquon Barkley</td>\n",
       "      <td>NYG</td>\n",
       "      <td>22.2</td>\n",
       "      <td>101.6</td>\n",
       "      <td>0.8</td>\n",
       "      <td>3.0</td>\n",
       "      <td>24.4</td>\n",
       "      <td>0.1</td>\n",
       "      <td>0.1</td>\n",
       "      <td>23.9</td>\n",
       "    </tr>\n",
       "  </tbody>\n",
       "</table>\n",
       "</div>"
      ],
      "text/plain": [
       "      player_stat team  rush_attempts  rush_yards  rush_tds  receptions  \\\n",
       "0  Saquon Barkley  NYG           22.2       101.6       0.8         3.0   \n",
       "\n",
       "   receive_yards  receive_tds  fumbles  points  \n",
       "0           24.4          0.1      0.1    23.9  "
      ]
     },
     "execution_count": 6,
     "metadata": {},
     "output_type": "execute_result"
    }
   ],
   "source": [
    "rb_projections['points'] = rb_projections.apply(rb_scoring, args= (scoring_dict,), axis=1)\n",
    "rb_projections.head(1)"
   ]
  },
  {
   "cell_type": "markdown",
   "metadata": {},
   "source": [
    "#### WR"
   ]
  },
  {
   "cell_type": "code",
   "execution_count": 7,
   "metadata": {
    "scrolled": false
   },
   "outputs": [
    {
     "data": {
      "text/html": [
       "<div>\n",
       "<style scoped>\n",
       "    .dataframe tbody tr th:only-of-type {\n",
       "        vertical-align: middle;\n",
       "    }\n",
       "\n",
       "    .dataframe tbody tr th {\n",
       "        vertical-align: top;\n",
       "    }\n",
       "\n",
       "    .dataframe thead th {\n",
       "        text-align: right;\n",
       "    }\n",
       "</style>\n",
       "<table border=\"1\" class=\"dataframe\">\n",
       "  <thead>\n",
       "    <tr style=\"text-align: right;\">\n",
       "      <th></th>\n",
       "      <th>player_stat</th>\n",
       "      <th>team</th>\n",
       "      <th>receptions</th>\n",
       "      <th>receive_yards</th>\n",
       "      <th>receive_tds</th>\n",
       "      <th>rush_attempts</th>\n",
       "      <th>rush_yards</th>\n",
       "      <th>rush_tds</th>\n",
       "      <th>fumbles</th>\n",
       "    </tr>\n",
       "  </thead>\n",
       "  <tbody>\n",
       "    <tr>\n",
       "      <th>0</th>\n",
       "      <td>Justin Jefferson</td>\n",
       "      <td>MIN</td>\n",
       "      <td>6.9</td>\n",
       "      <td>100.0</td>\n",
       "      <td>0.6</td>\n",
       "      <td>0.2</td>\n",
       "      <td>1.4</td>\n",
       "      <td>0.0</td>\n",
       "      <td>0.1</td>\n",
       "    </tr>\n",
       "    <tr>\n",
       "      <th>1</th>\n",
       "      <td>Stefon Diggs</td>\n",
       "      <td>BUF</td>\n",
       "      <td>7.3</td>\n",
       "      <td>94.9</td>\n",
       "      <td>0.7</td>\n",
       "      <td>0.0</td>\n",
       "      <td>0.1</td>\n",
       "      <td>0.0</td>\n",
       "      <td>0.0</td>\n",
       "    </tr>\n",
       "    <tr>\n",
       "      <th>2</th>\n",
       "      <td>Davante Adams</td>\n",
       "      <td>LV</td>\n",
       "      <td>6.9</td>\n",
       "      <td>85.7</td>\n",
       "      <td>0.6</td>\n",
       "      <td>0.3</td>\n",
       "      <td>1.1</td>\n",
       "      <td>0.0</td>\n",
       "      <td>0.0</td>\n",
       "    </tr>\n",
       "    <tr>\n",
       "      <th>3</th>\n",
       "      <td>CeeDee Lamb</td>\n",
       "      <td>DAL</td>\n",
       "      <td>5.9</td>\n",
       "      <td>81.7</td>\n",
       "      <td>0.6</td>\n",
       "      <td>0.5</td>\n",
       "      <td>2.8</td>\n",
       "      <td>0.0</td>\n",
       "      <td>0.0</td>\n",
       "    </tr>\n",
       "    <tr>\n",
       "      <th>4</th>\n",
       "      <td>A.J. Brown</td>\n",
       "      <td>PHI</td>\n",
       "      <td>5.5</td>\n",
       "      <td>81.2</td>\n",
       "      <td>0.6</td>\n",
       "      <td>0.0</td>\n",
       "      <td>0.2</td>\n",
       "      <td>0.0</td>\n",
       "      <td>0.0</td>\n",
       "    </tr>\n",
       "  </tbody>\n",
       "</table>\n",
       "</div>"
      ],
      "text/plain": [
       "        player_stat team  receptions  receive_yards  receive_tds  \\\n",
       "0  Justin Jefferson  MIN         6.9          100.0          0.6   \n",
       "1      Stefon Diggs  BUF         7.3           94.9          0.7   \n",
       "2     Davante Adams   LV         6.9           85.7          0.6   \n",
       "3       CeeDee Lamb  DAL         5.9           81.7          0.6   \n",
       "4        A.J. Brown  PHI         5.5           81.2          0.6   \n",
       "\n",
       "   rush_attempts  rush_yards  rush_tds  fumbles  \n",
       "0            0.2         1.4       0.0      0.1  \n",
       "1            0.0         0.1       0.0      0.0  \n",
       "2            0.3         1.1       0.0      0.0  \n",
       "3            0.5         2.8       0.0      0.0  \n",
       "4            0.0         0.2       0.0      0.0  "
      ]
     },
     "execution_count": 7,
     "metadata": {},
     "output_type": "execute_result"
    }
   ],
   "source": [
    "wr_projections = scrape_wr(week)\n",
    "wr_projections.head()"
   ]
  },
  {
   "cell_type": "code",
   "execution_count": 8,
   "metadata": {},
   "outputs": [
    {
     "data": {
      "text/html": [
       "<div>\n",
       "<style scoped>\n",
       "    .dataframe tbody tr th:only-of-type {\n",
       "        vertical-align: middle;\n",
       "    }\n",
       "\n",
       "    .dataframe tbody tr th {\n",
       "        vertical-align: top;\n",
       "    }\n",
       "\n",
       "    .dataframe thead th {\n",
       "        text-align: right;\n",
       "    }\n",
       "</style>\n",
       "<table border=\"1\" class=\"dataframe\">\n",
       "  <thead>\n",
       "    <tr style=\"text-align: right;\">\n",
       "      <th></th>\n",
       "      <th>player_stat</th>\n",
       "      <th>team</th>\n",
       "      <th>receptions</th>\n",
       "      <th>receive_yards</th>\n",
       "      <th>receive_tds</th>\n",
       "      <th>rush_attempts</th>\n",
       "      <th>rush_yards</th>\n",
       "      <th>rush_tds</th>\n",
       "      <th>fumbles</th>\n",
       "      <th>points</th>\n",
       "    </tr>\n",
       "  </thead>\n",
       "  <tbody>\n",
       "    <tr>\n",
       "      <th>0</th>\n",
       "      <td>Justin Jefferson</td>\n",
       "      <td>MIN</td>\n",
       "      <td>6.9</td>\n",
       "      <td>100.0</td>\n",
       "      <td>0.6</td>\n",
       "      <td>0.2</td>\n",
       "      <td>1.4</td>\n",
       "      <td>0.0</td>\n",
       "      <td>0.1</td>\n",
       "      <td>23.54</td>\n",
       "    </tr>\n",
       "  </tbody>\n",
       "</table>\n",
       "</div>"
      ],
      "text/plain": [
       "        player_stat team  receptions  receive_yards  receive_tds  \\\n",
       "0  Justin Jefferson  MIN         6.9          100.0          0.6   \n",
       "\n",
       "   rush_attempts  rush_yards  rush_tds  fumbles  points  \n",
       "0            0.2         1.4       0.0      0.1   23.54  "
      ]
     },
     "execution_count": 8,
     "metadata": {},
     "output_type": "execute_result"
    }
   ],
   "source": [
    "wr_projections['points'] = wr_projections.apply(wr_scoring, args= (scoring_dict,), axis=1)\n",
    "wr_projections.head(1)"
   ]
  },
  {
   "cell_type": "markdown",
   "metadata": {},
   "source": [
    "#### TE"
   ]
  },
  {
   "cell_type": "code",
   "execution_count": 9,
   "metadata": {
    "scrolled": true
   },
   "outputs": [
    {
     "data": {
      "text/html": [
       "<div>\n",
       "<style scoped>\n",
       "    .dataframe tbody tr th:only-of-type {\n",
       "        vertical-align: middle;\n",
       "    }\n",
       "\n",
       "    .dataframe tbody tr th {\n",
       "        vertical-align: top;\n",
       "    }\n",
       "\n",
       "    .dataframe thead th {\n",
       "        text-align: right;\n",
       "    }\n",
       "</style>\n",
       "<table border=\"1\" class=\"dataframe\">\n",
       "  <thead>\n",
       "    <tr style=\"text-align: right;\">\n",
       "      <th></th>\n",
       "      <th>player_stat</th>\n",
       "      <th>team</th>\n",
       "      <th>receptions</th>\n",
       "      <th>receive_yards</th>\n",
       "      <th>receive_tds</th>\n",
       "      <th>fumbles</th>\n",
       "    </tr>\n",
       "  </thead>\n",
       "  <tbody>\n",
       "    <tr>\n",
       "      <th>0</th>\n",
       "      <td>Travis Kelce</td>\n",
       "      <td>KC</td>\n",
       "      <td>6.7</td>\n",
       "      <td>80.9</td>\n",
       "      <td>0.8</td>\n",
       "      <td>0.0</td>\n",
       "    </tr>\n",
       "    <tr>\n",
       "      <th>1</th>\n",
       "      <td>Mark Andrews</td>\n",
       "      <td>BAL</td>\n",
       "      <td>4.9</td>\n",
       "      <td>59.9</td>\n",
       "      <td>0.6</td>\n",
       "      <td>0.0</td>\n",
       "    </tr>\n",
       "    <tr>\n",
       "      <th>2</th>\n",
       "      <td>T.J. Hockenson</td>\n",
       "      <td>MIN</td>\n",
       "      <td>4.8</td>\n",
       "      <td>53.0</td>\n",
       "      <td>0.5</td>\n",
       "      <td>0.0</td>\n",
       "    </tr>\n",
       "    <tr>\n",
       "      <th>3</th>\n",
       "      <td>George Kittle</td>\n",
       "      <td>SF</td>\n",
       "      <td>4.3</td>\n",
       "      <td>53.0</td>\n",
       "      <td>0.5</td>\n",
       "      <td>0.0</td>\n",
       "    </tr>\n",
       "    <tr>\n",
       "      <th>4</th>\n",
       "      <td>Pat Freiermuth</td>\n",
       "      <td>PIT</td>\n",
       "      <td>4.4</td>\n",
       "      <td>48.9</td>\n",
       "      <td>0.4</td>\n",
       "      <td>0.0</td>\n",
       "    </tr>\n",
       "  </tbody>\n",
       "</table>\n",
       "</div>"
      ],
      "text/plain": [
       "      player_stat team  receptions  receive_yards  receive_tds  fumbles\n",
       "0    Travis Kelce   KC         6.7           80.9          0.8      0.0\n",
       "1    Mark Andrews  BAL         4.9           59.9          0.6      0.0\n",
       "2  T.J. Hockenson  MIN         4.8           53.0          0.5      0.0\n",
       "3   George Kittle   SF         4.3           53.0          0.5      0.0\n",
       "4  Pat Freiermuth  PIT         4.4           48.9          0.4      0.0"
      ]
     },
     "execution_count": 9,
     "metadata": {},
     "output_type": "execute_result"
    }
   ],
   "source": [
    "te_projections = scrape_te(week)\n",
    "te_projections.head()"
   ]
  },
  {
   "cell_type": "code",
   "execution_count": 10,
   "metadata": {},
   "outputs": [
    {
     "data": {
      "text/html": [
       "<div>\n",
       "<style scoped>\n",
       "    .dataframe tbody tr th:only-of-type {\n",
       "        vertical-align: middle;\n",
       "    }\n",
       "\n",
       "    .dataframe tbody tr th {\n",
       "        vertical-align: top;\n",
       "    }\n",
       "\n",
       "    .dataframe thead th {\n",
       "        text-align: right;\n",
       "    }\n",
       "</style>\n",
       "<table border=\"1\" class=\"dataframe\">\n",
       "  <thead>\n",
       "    <tr style=\"text-align: right;\">\n",
       "      <th></th>\n",
       "      <th>player_stat</th>\n",
       "      <th>team</th>\n",
       "      <th>receptions</th>\n",
       "      <th>receive_yards</th>\n",
       "      <th>receive_tds</th>\n",
       "      <th>fumbles</th>\n",
       "      <th>points</th>\n",
       "    </tr>\n",
       "  </thead>\n",
       "  <tbody>\n",
       "    <tr>\n",
       "      <th>0</th>\n",
       "      <td>Travis Kelce</td>\n",
       "      <td>KC</td>\n",
       "      <td>6.7</td>\n",
       "      <td>80.9</td>\n",
       "      <td>0.8</td>\n",
       "      <td>0.0</td>\n",
       "      <td>19.59</td>\n",
       "    </tr>\n",
       "  </tbody>\n",
       "</table>\n",
       "</div>"
      ],
      "text/plain": [
       "    player_stat team  receptions  receive_yards  receive_tds  fumbles  points\n",
       "0  Travis Kelce   KC         6.7           80.9          0.8      0.0   19.59"
      ]
     },
     "execution_count": 10,
     "metadata": {},
     "output_type": "execute_result"
    }
   ],
   "source": [
    "te_projections['points'] = te_projections.apply(te_scoring, args= (scoring_dict,), axis=1)\n",
    "te_projections.head(1)"
   ]
  },
  {
   "cell_type": "markdown",
   "metadata": {},
   "source": [
    "#### D/ST"
   ]
  },
  {
   "cell_type": "code",
   "execution_count": 11,
   "metadata": {
    "scrolled": true
   },
   "outputs": [
    {
     "data": {
      "text/html": [
       "<div>\n",
       "<style scoped>\n",
       "    .dataframe tbody tr th:only-of-type {\n",
       "        vertical-align: middle;\n",
       "    }\n",
       "\n",
       "    .dataframe tbody tr th {\n",
       "        vertical-align: top;\n",
       "    }\n",
       "\n",
       "    .dataframe thead th {\n",
       "        text-align: right;\n",
       "    }\n",
       "</style>\n",
       "<table border=\"1\" class=\"dataframe\">\n",
       "  <thead>\n",
       "    <tr style=\"text-align: right;\">\n",
       "      <th></th>\n",
       "      <th>player_stat</th>\n",
       "      <th>sack</th>\n",
       "      <th>interception</th>\n",
       "      <th>fumble_recovered</th>\n",
       "      <th>touchdowns</th>\n",
       "      <th>safety</th>\n",
       "      <th>points_against</th>\n",
       "      <th>yards_against</th>\n",
       "    </tr>\n",
       "  </thead>\n",
       "  <tbody>\n",
       "    <tr>\n",
       "      <th>0</th>\n",
       "      <td>Philadelphia Eagles</td>\n",
       "      <td>2.9</td>\n",
       "      <td>1.1</td>\n",
       "      <td>0.7</td>\n",
       "      <td>0.2</td>\n",
       "      <td>0.0</td>\n",
       "      <td>17.9</td>\n",
       "      <td>318.6</td>\n",
       "    </tr>\n",
       "    <tr>\n",
       "      <th>1</th>\n",
       "      <td>New England Patriots</td>\n",
       "      <td>3.0</td>\n",
       "      <td>1.1</td>\n",
       "      <td>0.6</td>\n",
       "      <td>0.2</td>\n",
       "      <td>0.0</td>\n",
       "      <td>16.6</td>\n",
       "      <td>295.8</td>\n",
       "    </tr>\n",
       "    <tr>\n",
       "      <th>2</th>\n",
       "      <td>Cincinnati Bengals</td>\n",
       "      <td>2.4</td>\n",
       "      <td>1.3</td>\n",
       "      <td>0.6</td>\n",
       "      <td>0.2</td>\n",
       "      <td>0.0</td>\n",
       "      <td>18.8</td>\n",
       "      <td>323.3</td>\n",
       "    </tr>\n",
       "    <tr>\n",
       "      <th>3</th>\n",
       "      <td>New Orleans Saints</td>\n",
       "      <td>2.6</td>\n",
       "      <td>1.0</td>\n",
       "      <td>0.6</td>\n",
       "      <td>0.2</td>\n",
       "      <td>0.0</td>\n",
       "      <td>19.0</td>\n",
       "      <td>312.9</td>\n",
       "    </tr>\n",
       "    <tr>\n",
       "      <th>4</th>\n",
       "      <td>Buffalo Bills</td>\n",
       "      <td>2.5</td>\n",
       "      <td>0.9</td>\n",
       "      <td>0.7</td>\n",
       "      <td>0.2</td>\n",
       "      <td>0.0</td>\n",
       "      <td>18.8</td>\n",
       "      <td>346.0</td>\n",
       "    </tr>\n",
       "  </tbody>\n",
       "</table>\n",
       "</div>"
      ],
      "text/plain": [
       "            player_stat  sack  interception  fumble_recovered  touchdowns  \\\n",
       "0   Philadelphia Eagles   2.9           1.1               0.7         0.2   \n",
       "1  New England Patriots   3.0           1.1               0.6         0.2   \n",
       "2    Cincinnati Bengals   2.4           1.3               0.6         0.2   \n",
       "3    New Orleans Saints   2.6           1.0               0.6         0.2   \n",
       "4         Buffalo Bills   2.5           0.9               0.7         0.2   \n",
       "\n",
       "   safety  points_against yards_against  \n",
       "0     0.0            17.9         318.6  \n",
       "1     0.0            16.6         295.8  \n",
       "2     0.0            18.8         323.3  \n",
       "3     0.0            19.0         312.9  \n",
       "4     0.0            18.8         346.0  "
      ]
     },
     "execution_count": 11,
     "metadata": {},
     "output_type": "execute_result"
    }
   ],
   "source": [
    "dst_projections = scrape_dst(week)\n",
    "dst_projections.head()"
   ]
  },
  {
   "cell_type": "code",
   "execution_count": 12,
   "metadata": {},
   "outputs": [
    {
     "data": {
      "text/html": [
       "<div>\n",
       "<style scoped>\n",
       "    .dataframe tbody tr th:only-of-type {\n",
       "        vertical-align: middle;\n",
       "    }\n",
       "\n",
       "    .dataframe tbody tr th {\n",
       "        vertical-align: top;\n",
       "    }\n",
       "\n",
       "    .dataframe thead th {\n",
       "        text-align: right;\n",
       "    }\n",
       "</style>\n",
       "<table border=\"1\" class=\"dataframe\">\n",
       "  <thead>\n",
       "    <tr style=\"text-align: right;\">\n",
       "      <th></th>\n",
       "      <th>player_stat</th>\n",
       "      <th>sack</th>\n",
       "      <th>interception</th>\n",
       "      <th>fumble_recovered</th>\n",
       "      <th>touchdowns</th>\n",
       "      <th>safety</th>\n",
       "      <th>points_against</th>\n",
       "      <th>yards_against</th>\n",
       "      <th>team</th>\n",
       "    </tr>\n",
       "  </thead>\n",
       "  <tbody>\n",
       "    <tr>\n",
       "      <th>0</th>\n",
       "      <td>Eagles</td>\n",
       "      <td>2.9</td>\n",
       "      <td>1.1</td>\n",
       "      <td>0.7</td>\n",
       "      <td>0.2</td>\n",
       "      <td>0.0</td>\n",
       "      <td>17.9</td>\n",
       "      <td>318.6</td>\n",
       "      <td>PHI</td>\n",
       "    </tr>\n",
       "  </tbody>\n",
       "</table>\n",
       "</div>"
      ],
      "text/plain": [
       "  player_stat  sack  interception  fumble_recovered  touchdowns  safety  \\\n",
       "0      Eagles   2.9           1.1               0.7         0.2     0.0   \n",
       "\n",
       "   points_against yards_against team  \n",
       "0            17.9         318.6  PHI  "
      ]
     },
     "execution_count": 12,
     "metadata": {},
     "output_type": "execute_result"
    }
   ],
   "source": [
    "dst_projections = clean_dst(dst_projections)\n",
    "dst_projections.head(1)"
   ]
  },
  {
   "cell_type": "code",
   "execution_count": 13,
   "metadata": {},
   "outputs": [
    {
     "data": {
      "text/html": [
       "<div>\n",
       "<style scoped>\n",
       "    .dataframe tbody tr th:only-of-type {\n",
       "        vertical-align: middle;\n",
       "    }\n",
       "\n",
       "    .dataframe tbody tr th {\n",
       "        vertical-align: top;\n",
       "    }\n",
       "\n",
       "    .dataframe thead th {\n",
       "        text-align: right;\n",
       "    }\n",
       "</style>\n",
       "<table border=\"1\" class=\"dataframe\">\n",
       "  <thead>\n",
       "    <tr style=\"text-align: right;\">\n",
       "      <th></th>\n",
       "      <th>player_stat</th>\n",
       "      <th>sack</th>\n",
       "      <th>interception</th>\n",
       "      <th>fumble_recovered</th>\n",
       "      <th>touchdowns</th>\n",
       "      <th>safety</th>\n",
       "      <th>points_against</th>\n",
       "      <th>yards_against</th>\n",
       "      <th>team</th>\n",
       "      <th>points</th>\n",
       "    </tr>\n",
       "  </thead>\n",
       "  <tbody>\n",
       "    <tr>\n",
       "      <th>0</th>\n",
       "      <td>Eagles</td>\n",
       "      <td>2.9</td>\n",
       "      <td>1.1</td>\n",
       "      <td>0.7</td>\n",
       "      <td>0.2</td>\n",
       "      <td>0.0</td>\n",
       "      <td>17.9</td>\n",
       "      <td>318.6</td>\n",
       "      <td>PHI</td>\n",
       "      <td>9.585714</td>\n",
       "    </tr>\n",
       "  </tbody>\n",
       "</table>\n",
       "</div>"
      ],
      "text/plain": [
       "  player_stat  sack  interception  fumble_recovered  touchdowns  safety  \\\n",
       "0      Eagles   2.9           1.1               0.7         0.2     0.0   \n",
       "\n",
       "   points_against yards_against team    points  \n",
       "0            17.9         318.6  PHI  9.585714  "
      ]
     },
     "execution_count": 13,
     "metadata": {},
     "output_type": "execute_result"
    }
   ],
   "source": [
    "dst_projections['points'] = dst_projections.apply(dst_scoring, args= (scoring_dict,), axis=1)\n",
    "dst_projections.head(1)"
   ]
  },
  {
   "cell_type": "markdown",
   "metadata": {},
   "source": [
    "#### Combine projections"
   ]
  },
  {
   "cell_type": "code",
   "execution_count": 14,
   "metadata": {
    "scrolled": true
   },
   "outputs": [
    {
     "data": {
      "text/html": [
       "<div>\n",
       "<style scoped>\n",
       "    .dataframe tbody tr th:only-of-type {\n",
       "        vertical-align: middle;\n",
       "    }\n",
       "\n",
       "    .dataframe tbody tr th {\n",
       "        vertical-align: top;\n",
       "    }\n",
       "\n",
       "    .dataframe thead th {\n",
       "        text-align: right;\n",
       "    }\n",
       "</style>\n",
       "<table border=\"1\" class=\"dataframe\">\n",
       "  <thead>\n",
       "    <tr style=\"text-align: right;\">\n",
       "      <th></th>\n",
       "      <th>player_stat</th>\n",
       "      <th>team</th>\n",
       "      <th>points</th>\n",
       "    </tr>\n",
       "  </thead>\n",
       "  <tbody>\n",
       "    <tr>\n",
       "      <th>0</th>\n",
       "      <td>Saquon Barkley</td>\n",
       "      <td>NYG</td>\n",
       "      <td>23.90</td>\n",
       "    </tr>\n",
       "    <tr>\n",
       "      <th>0</th>\n",
       "      <td>Justin Jefferson</td>\n",
       "      <td>MIN</td>\n",
       "      <td>23.54</td>\n",
       "    </tr>\n",
       "    <tr>\n",
       "      <th>3</th>\n",
       "      <td>Austin Ekeler</td>\n",
       "      <td>LAC</td>\n",
       "      <td>21.43</td>\n",
       "    </tr>\n",
       "    <tr>\n",
       "      <th>1</th>\n",
       "      <td>Stefon Diggs</td>\n",
       "      <td>BUF</td>\n",
       "      <td>21.00</td>\n",
       "    </tr>\n",
       "    <tr>\n",
       "      <th>2</th>\n",
       "      <td>Christian McCaffrey</td>\n",
       "      <td>SF</td>\n",
       "      <td>19.94</td>\n",
       "    </tr>\n",
       "  </tbody>\n",
       "</table>\n",
       "</div>"
      ],
      "text/plain": [
       "           player_stat team  points\n",
       "0       Saquon Barkley  NYG   23.90\n",
       "0     Justin Jefferson  MIN   23.54\n",
       "3        Austin Ekeler  LAC   21.43\n",
       "1         Stefon Diggs  BUF   21.00\n",
       "2  Christian McCaffrey   SF   19.94"
      ]
     },
     "execution_count": 14,
     "metadata": {},
     "output_type": "execute_result"
    }
   ],
   "source": [
    "all_projections = combine_projections(qb_projections,rb_projections,wr_projections,te_projections,dst_projections)\n",
    "all_projections.head()"
   ]
  },
  {
   "cell_type": "markdown",
   "metadata": {},
   "source": [
    "### 2. Load salaries"
   ]
  },
  {
   "cell_type": "markdown",
   "metadata": {},
   "source": [
    "Now I will load the player salaries from Draft Kings."
   ]
  },
  {
   "cell_type": "code",
   "execution_count": 15,
   "metadata": {},
   "outputs": [
    {
     "data": {
      "text/html": [
       "<div>\n",
       "<style scoped>\n",
       "    .dataframe tbody tr th:only-of-type {\n",
       "        vertical-align: middle;\n",
       "    }\n",
       "\n",
       "    .dataframe tbody tr th {\n",
       "        vertical-align: top;\n",
       "    }\n",
       "\n",
       "    .dataframe thead th {\n",
       "        text-align: right;\n",
       "    }\n",
       "</style>\n",
       "<table border=\"1\" class=\"dataframe\">\n",
       "  <thead>\n",
       "    <tr style=\"text-align: right;\">\n",
       "      <th></th>\n",
       "      <th>Position</th>\n",
       "      <th>Name + ID</th>\n",
       "      <th>Name</th>\n",
       "      <th>ID</th>\n",
       "      <th>Roster Position</th>\n",
       "      <th>Salary</th>\n",
       "      <th>Game Info</th>\n",
       "      <th>TeamAbbrev</th>\n",
       "      <th>AvgPointsPerGame</th>\n",
       "    </tr>\n",
       "  </thead>\n",
       "  <tbody>\n",
       "    <tr>\n",
       "      <th>0</th>\n",
       "      <td>WR</td>\n",
       "      <td>Justin Jefferson (25323474)</td>\n",
       "      <td>Justin Jefferson</td>\n",
       "      <td>25323474</td>\n",
       "      <td>WR/FLEX</td>\n",
       "      <td>9100</td>\n",
       "      <td>DAL@MIN 11/20/2022 04:25PM ET</td>\n",
       "      <td>MIN</td>\n",
       "      <td>25.25</td>\n",
       "    </tr>\n",
       "    <tr>\n",
       "      <th>1</th>\n",
       "      <td>WR</td>\n",
       "      <td>Cooper Kupp (25323476)</td>\n",
       "      <td>Cooper Kupp</td>\n",
       "      <td>25323476</td>\n",
       "      <td>WR/FLEX</td>\n",
       "      <td>8900</td>\n",
       "      <td>LAR@NO 11/20/2022 01:00PM ET</td>\n",
       "      <td>LAR</td>\n",
       "      <td>24.16</td>\n",
       "    </tr>\n",
       "    <tr>\n",
       "      <th>2</th>\n",
       "      <td>RB</td>\n",
       "      <td>Saquon Barkley (25323208)</td>\n",
       "      <td>Saquon Barkley</td>\n",
       "      <td>25323208</td>\n",
       "      <td>RB/FLEX</td>\n",
       "      <td>8900</td>\n",
       "      <td>DET@NYG 11/20/2022 01:00PM ET</td>\n",
       "      <td>NYG</td>\n",
       "      <td>21.31</td>\n",
       "    </tr>\n",
       "    <tr>\n",
       "      <th>3</th>\n",
       "      <td>WR</td>\n",
       "      <td>Davante Adams (25323478)</td>\n",
       "      <td>Davante Adams</td>\n",
       "      <td>25323478</td>\n",
       "      <td>WR/FLEX</td>\n",
       "      <td>8700</td>\n",
       "      <td>LV@DEN 11/20/2022 04:05PM ET</td>\n",
       "      <td>LV</td>\n",
       "      <td>22.03</td>\n",
       "    </tr>\n",
       "    <tr>\n",
       "      <th>4</th>\n",
       "      <td>QB</td>\n",
       "      <td>Josh Allen (25323137)</td>\n",
       "      <td>Josh Allen</td>\n",
       "      <td>25323137</td>\n",
       "      <td>QB</td>\n",
       "      <td>8500</td>\n",
       "      <td>CLE@BUF 11/20/2022 01:00PM ET</td>\n",
       "      <td>BUF</td>\n",
       "      <td>29.21</td>\n",
       "    </tr>\n",
       "  </tbody>\n",
       "</table>\n",
       "</div>"
      ],
      "text/plain": [
       "  Position                    Name + ID              Name        ID  \\\n",
       "0       WR  Justin Jefferson (25323474)  Justin Jefferson  25323474   \n",
       "1       WR       Cooper Kupp (25323476)       Cooper Kupp  25323476   \n",
       "2       RB    Saquon Barkley (25323208)    Saquon Barkley  25323208   \n",
       "3       WR     Davante Adams (25323478)     Davante Adams  25323478   \n",
       "4       QB        Josh Allen (25323137)        Josh Allen  25323137   \n",
       "\n",
       "  Roster Position  Salary                      Game Info TeamAbbrev  \\\n",
       "0         WR/FLEX    9100  DAL@MIN 11/20/2022 04:25PM ET        MIN   \n",
       "1         WR/FLEX    8900   LAR@NO 11/20/2022 01:00PM ET        LAR   \n",
       "2         RB/FLEX    8900  DET@NYG 11/20/2022 01:00PM ET        NYG   \n",
       "3         WR/FLEX    8700   LV@DEN 11/20/2022 04:05PM ET         LV   \n",
       "4              QB    8500  CLE@BUF 11/20/2022 01:00PM ET        BUF   \n",
       "\n",
       "   AvgPointsPerGame  \n",
       "0             25.25  \n",
       "1             24.16  \n",
       "2             21.31  \n",
       "3             22.03  \n",
       "4             29.21  "
      ]
     },
     "execution_count": 15,
     "metadata": {},
     "output_type": "execute_result"
    }
   ],
   "source": [
    "df_raw = get_salaries()\n",
    "df_raw.head()"
   ]
  },
  {
   "cell_type": "code",
   "execution_count": 16,
   "metadata": {},
   "outputs": [
    {
     "data": {
      "text/plain": [
       "(330, 3)"
      ]
     },
     "execution_count": 16,
     "metadata": {},
     "output_type": "execute_result"
    }
   ],
   "source": [
    "all_projections.shape"
   ]
  },
  {
   "cell_type": "code",
   "execution_count": 17,
   "metadata": {},
   "outputs": [
    {
     "data": {
      "text/plain": [
       "(268, 3)"
      ]
     },
     "execution_count": 17,
     "metadata": {},
     "output_type": "execute_result"
    }
   ],
   "source": [
    "all_projections = all_projections[all_projections['team'].apply(lambda x: True if x not in droplist else False)].copy()\n",
    "all_projections.shape"
   ]
  },
  {
   "cell_type": "markdown",
   "metadata": {},
   "source": [
    "First, I need to standardize names across data sets"
   ]
  },
  {
   "cell_type": "code",
   "execution_count": 18,
   "metadata": {
    "scrolled": true
   },
   "outputs": [
    {
     "name": "stdout",
     "output_type": "stream",
     "text": [
      "In projections, but not in salaries: \n",
      "13   Robert Tonyan\n",
      "18   Austin Hooper\n"
     ]
    }
   ],
   "source": [
    "check_players(te_projections, 'T', droplist, df_raw)"
   ]
  },
  {
   "cell_type": "code",
   "execution_count": 19,
   "metadata": {
    "scrolled": true
   },
   "outputs": [
    {
     "data": {
      "text/html": [
       "<div>\n",
       "<style scoped>\n",
       "    .dataframe tbody tr th:only-of-type {\n",
       "        vertical-align: middle;\n",
       "    }\n",
       "\n",
       "    .dataframe tbody tr th {\n",
       "        vertical-align: top;\n",
       "    }\n",
       "\n",
       "    .dataframe thead th {\n",
       "        text-align: right;\n",
       "    }\n",
       "</style>\n",
       "<table border=\"1\" class=\"dataframe\">\n",
       "  <thead>\n",
       "    <tr style=\"text-align: right;\">\n",
       "      <th></th>\n",
       "      <th>player_stat</th>\n",
       "      <th>team</th>\n",
       "      <th>rush_attempts</th>\n",
       "      <th>rush_yards</th>\n",
       "      <th>rush_tds</th>\n",
       "      <th>receptions</th>\n",
       "      <th>receive_yards</th>\n",
       "      <th>receive_tds</th>\n",
       "      <th>fumbles</th>\n",
       "      <th>points</th>\n",
       "    </tr>\n",
       "  </thead>\n",
       "  <tbody>\n",
       "  </tbody>\n",
       "</table>\n",
       "</div>"
      ],
      "text/plain": [
       "Empty DataFrame\n",
       "Columns: [player_stat, team, rush_attempts, rush_yards, rush_tds, receptions, receive_yards, receive_tds, fumbles, points]\n",
       "Index: []"
      ]
     },
     "execution_count": 19,
     "metadata": {},
     "output_type": "execute_result"
    }
   ],
   "source": [
    "rb_projections[rb_projections['player_stat']=='Amari Rodgers']"
   ]
  },
  {
   "cell_type": "code",
   "execution_count": 20,
   "metadata": {
    "scrolled": true
   },
   "outputs": [
    {
     "data": {
      "text/html": [
       "<div>\n",
       "<style scoped>\n",
       "    .dataframe tbody tr th:only-of-type {\n",
       "        vertical-align: middle;\n",
       "    }\n",
       "\n",
       "    .dataframe tbody tr th {\n",
       "        vertical-align: top;\n",
       "    }\n",
       "\n",
       "    .dataframe thead th {\n",
       "        text-align: right;\n",
       "    }\n",
       "</style>\n",
       "<table border=\"1\" class=\"dataframe\">\n",
       "  <thead>\n",
       "    <tr style=\"text-align: right;\">\n",
       "      <th></th>\n",
       "      <th>Position</th>\n",
       "      <th>Name + ID</th>\n",
       "      <th>Name</th>\n",
       "      <th>ID</th>\n",
       "      <th>Roster Position</th>\n",
       "      <th>Salary</th>\n",
       "      <th>Game Info</th>\n",
       "      <th>TeamAbbrev</th>\n",
       "      <th>AvgPointsPerGame</th>\n",
       "    </tr>\n",
       "  </thead>\n",
       "  <tbody>\n",
       "    <tr>\n",
       "      <th>26</th>\n",
       "      <td>RB</td>\n",
       "      <td>Dameon Pierce (25323228)</td>\n",
       "      <td>Dameon Pierce</td>\n",
       "      <td>25323228</td>\n",
       "      <td>RB/FLEX</td>\n",
       "      <td>6500</td>\n",
       "      <td>WAS@HOU 11/20/2022 01:00PM ET</td>\n",
       "      <td>HOU</td>\n",
       "      <td>15.64</td>\n",
       "    </tr>\n",
       "    <tr>\n",
       "      <th>146</th>\n",
       "      <td>RB</td>\n",
       "      <td>Rex Burkhead (25323310)</td>\n",
       "      <td>Rex Burkhead</td>\n",
       "      <td>25323310</td>\n",
       "      <td>RB/FLEX</td>\n",
       "      <td>4400</td>\n",
       "      <td>WAS@HOU 11/20/2022 01:00PM ET</td>\n",
       "      <td>HOU</td>\n",
       "      <td>6.36</td>\n",
       "    </tr>\n",
       "    <tr>\n",
       "      <th>202</th>\n",
       "      <td>RB</td>\n",
       "      <td>Dare Ogunbowale (25323418)</td>\n",
       "      <td>Dare Ogunbowale</td>\n",
       "      <td>25323418</td>\n",
       "      <td>RB/FLEX</td>\n",
       "      <td>4000</td>\n",
       "      <td>WAS@HOU 11/20/2022 01:00PM ET</td>\n",
       "      <td>HOU</td>\n",
       "      <td>1.61</td>\n",
       "    </tr>\n",
       "    <tr>\n",
       "      <th>203</th>\n",
       "      <td>RB</td>\n",
       "      <td>Darius Anderson (25323420)</td>\n",
       "      <td>Darius Anderson</td>\n",
       "      <td>25323420</td>\n",
       "      <td>RB/FLEX</td>\n",
       "      <td>4000</td>\n",
       "      <td>WAS@HOU 11/20/2022 01:00PM ET</td>\n",
       "      <td>HOU</td>\n",
       "      <td>0.00</td>\n",
       "    </tr>\n",
       "    <tr>\n",
       "      <th>204</th>\n",
       "      <td>RB</td>\n",
       "      <td>Royce Freeman (25323422)</td>\n",
       "      <td>Royce Freeman</td>\n",
       "      <td>25323422</td>\n",
       "      <td>RB/FLEX</td>\n",
       "      <td>4000</td>\n",
       "      <td>WAS@HOU 11/20/2022 01:00PM ET</td>\n",
       "      <td>HOU</td>\n",
       "      <td>0.00</td>\n",
       "    </tr>\n",
       "    <tr>\n",
       "      <th>205</th>\n",
       "      <td>RB</td>\n",
       "      <td>Troy Hairston (25323424)</td>\n",
       "      <td>Troy Hairston</td>\n",
       "      <td>25323424</td>\n",
       "      <td>RB/FLEX</td>\n",
       "      <td>4000</td>\n",
       "      <td>WAS@HOU 11/20/2022 01:00PM ET</td>\n",
       "      <td>HOU</td>\n",
       "      <td>0.47</td>\n",
       "    </tr>\n",
       "    <tr>\n",
       "      <th>206</th>\n",
       "      <td>RB</td>\n",
       "      <td>Gerrid Doaks (25323426)</td>\n",
       "      <td>Gerrid Doaks</td>\n",
       "      <td>25323426</td>\n",
       "      <td>RB/FLEX</td>\n",
       "      <td>4000</td>\n",
       "      <td>WAS@HOU 11/20/2022 01:00PM ET</td>\n",
       "      <td>HOU</td>\n",
       "      <td>0.00</td>\n",
       "    </tr>\n",
       "  </tbody>\n",
       "</table>\n",
       "</div>"
      ],
      "text/plain": [
       "    Position                   Name + ID             Name        ID  \\\n",
       "26        RB    Dameon Pierce (25323228)    Dameon Pierce  25323228   \n",
       "146       RB     Rex Burkhead (25323310)     Rex Burkhead  25323310   \n",
       "202       RB  Dare Ogunbowale (25323418)  Dare Ogunbowale  25323418   \n",
       "203       RB  Darius Anderson (25323420)  Darius Anderson  25323420   \n",
       "204       RB    Royce Freeman (25323422)    Royce Freeman  25323422   \n",
       "205       RB    Troy Hairston (25323424)    Troy Hairston  25323424   \n",
       "206       RB     Gerrid Doaks (25323426)     Gerrid Doaks  25323426   \n",
       "\n",
       "    Roster Position  Salary                      Game Info TeamAbbrev  \\\n",
       "26          RB/FLEX    6500  WAS@HOU 11/20/2022 01:00PM ET        HOU   \n",
       "146         RB/FLEX    4400  WAS@HOU 11/20/2022 01:00PM ET        HOU   \n",
       "202         RB/FLEX    4000  WAS@HOU 11/20/2022 01:00PM ET        HOU   \n",
       "203         RB/FLEX    4000  WAS@HOU 11/20/2022 01:00PM ET        HOU   \n",
       "204         RB/FLEX    4000  WAS@HOU 11/20/2022 01:00PM ET        HOU   \n",
       "205         RB/FLEX    4000  WAS@HOU 11/20/2022 01:00PM ET        HOU   \n",
       "206         RB/FLEX    4000  WAS@HOU 11/20/2022 01:00PM ET        HOU   \n",
       "\n",
       "     AvgPointsPerGame  \n",
       "26              15.64  \n",
       "146              6.36  \n",
       "202              1.61  \n",
       "203              0.00  \n",
       "204              0.00  \n",
       "205              0.47  \n",
       "206              0.00  "
      ]
     },
     "execution_count": 20,
     "metadata": {},
     "output_type": "execute_result"
    }
   ],
   "source": [
    "df_raw[(df_raw['TeamAbbrev']=='HOU')&(df_raw['Position']=='RB')]"
   ]
  },
  {
   "cell_type": "code",
   "execution_count": 21,
   "metadata": {},
   "outputs": [],
   "source": [
    "# all_projections['player_stat'].replace('Stanley Berryhill III','Stanley Berryhill',inplace=True)\n",
    "# all_projections['player_stat'].replace('Patrick Mahomes II','Patrick Mahomes',inplace=True)\n",
    "# all_projections['player_stat'].replace('PJ Walker','P.J. Walker',inplace=True)\n",
    "# all_projections['player_stat'].replace('Ken Walker III','Kenneth Walker III',inplace=True)\n",
    "# all_projections['player_stat'].replace('Troy Hairston II','Troy Hairston',inplace=True)\n",
    "all_projections['player_stat'].replace('Demetric Felton Jr.','Demetric Felton',inplace=True)\n",
    "# all_projections['player_stat'].replace(\"D'Vonte Price\",\"D'vonte Price\",inplace=True)\n",
    "# all_projections['player_stat'].replace('Patrick Taylor Jr.','Patrick Taylor',inplace=True)\n",
    "all_projections['player_stat'].replace('D.J. Chark Jr.','DJ Chark Jr.',inplace=True)\n",
    "# all_projections['player_stat'].replace('Ray-Ray McCloud','Ray-Ray McCloud III',inplace=True)\n",
    "all_projections['player_stat'].replace('Keelan Cole Sr.','Keelan Cole',inplace=True)\n",
    "# all_projections['player_stat'].replace('K.J. Hamler','KJ Hamler',inplace=True)\n",
    "# all_projections['player_stat'].replace('Chigoziem Okonkwo','Chig Okonkwo',inplace=True)\n",
    "# all_projections['player_stat'].replace('Elijah Mitchell','Eli Mitchell',inplace=True)\n",
    "# all_projections['player_stat'].replace('D.K. Metcalf','DK Metcalf',inplace=True)\n",
    "# all_projections['player_stat'].replace('D.J. Moore','DJ Moore',inplace=True)\n",
    "# all_projections['player_stat'].replace('Darrell Henderson','Darrell Henderson Jr.',inplace=True)\n",
    "# all_projections['player_stat'].replace(\"D'Wayne Eskridge\",'Dee Eskridge',inplace=True)\n",
    "# all_projections['player_stat'].replace('Van Jefferson','Van Jefferson Jr.',inplace=True)\n",
    "# all_projections['player_stat'].replace('Josh Palmer','Joshua Palmer',inplace=True)\n",
    "# all_projections['player_stat'].replace('Chris Herndon IV','Chris Herndon',inplace=True)\n",
    "# all_projections['player_stat'].replace('Jakeem Grant Sr.','Jakeem Grant',inplace=True)\n",
    "# all_projections['player_stat'].replace('Ray-Ray McCloud','Ray-Ray McCloud III',inplace=True)\n",
    "# all_projections['player_stat'].replace('Phillip Walker','P.J. Walker',inplace=True)\n",
    "# all_projections['player_stat'].replace('J.J. Arcega-Whiteside','JJ Arcega-Whiteside',inplace=True)\n",
    "# all_projections['player_stat'].replace('James Proche II','James Proche',inplace=True)\n",
    "# all_projections['player_stat'].replace('Stanley Morgan Jr.','Stanley Morgan',inplace=True)\n",
    "# all_projections['player_stat'].replace('K.J. Hill Jr.','K.J. Hill',inplace=True)\n",
    "# all_projections['player_stat'].replace('Victor Bolden Jr.','Victor Bolden',inplace=True)\n",
    "# all_projections['player_stat'].replace('Alex Armah Jr.','Alex Armah',inplace=True)\n",
    "# all_projections['player_stat'].replace('John Ross','John Ross III',inplace=True)\n",
    "# all_projections['player_stat'].replace('Elijhaa Penny','Eli Penny',inplace=True)\n",
    "# all_projections['player_stat'].replace('Adrian Killins Jr.','Adrian Killins',inplace=True)"
   ]
  },
  {
   "cell_type": "code",
   "execution_count": 22,
   "metadata": {},
   "outputs": [],
   "source": [
    "combined_df = df_raw.merge(all_projections,how='left',left_on='Name',right_on='player_stat')\n",
    "combined_df['points'] = combined_df['points'].fillna(0)"
   ]
  },
  {
   "cell_type": "markdown",
   "metadata": {},
   "source": [
    "provide option to drop specific players who are listed as questionable"
   ]
  },
  {
   "cell_type": "code",
   "execution_count": 23,
   "metadata": {},
   "outputs": [],
   "source": [
    "# combined_df = combined_df[combined_df['Name'].apply(lambda x: True if x not in ['Tyler Higbee','Jakobi Meyers'] else False)].copy()"
   ]
  },
  {
   "cell_type": "markdown",
   "metadata": {},
   "source": [
    "### 3. Build optimizer"
   ]
  },
  {
   "cell_type": "markdown",
   "metadata": {},
   "source": [
    "First, I will create the necessary data structures"
   ]
  },
  {
   "cell_type": "code",
   "execution_count": 24,
   "metadata": {
    "scrolled": true
   },
   "outputs": [],
   "source": [
    "prob = LpProblem(\"combined_dfs\",LpMaximize)\n",
    "\n",
    "players = list(combined_df['ID'])\n",
    "salaries = dict(zip(players,combined_df['Salary']))\n",
    "points = dict(zip(players,combined_df['points']))\n",
    "qbs = dict(zip(players,(combined_df['Position']=='QB')*1))\n",
    "rbs = dict(zip(players,(combined_df['Position']=='RB')*1))\n",
    "wrs = dict(zip(players,(combined_df['Position']=='WR')*1))\n",
    "tes = dict(zip(players,(combined_df['Position']=='TE')*1))\n",
    "defs = dict(zip(players,(combined_df['Position']=='DST')*1))\n",
    "player_count = dict(zip(players,[1]*len(combined_df)))\n",
    "\n",
    "player_vars = LpVariable.dicts(\"Players\",players,lowBound=0,upBound=1,cat='Integer')"
   ]
  },
  {
   "cell_type": "markdown",
   "metadata": {},
   "source": [
    "Next, I will define the objective and constraints"
   ]
  },
  {
   "cell_type": "code",
   "execution_count": 25,
   "metadata": {},
   "outputs": [],
   "source": [
    "prob += lpSum([points[i]*player_vars[i] for i in players])\n",
    "\n",
    "prob += lpSum([salaries[f] * player_vars[f] for f in players]) <= 50000\n",
    "\n",
    "prob += lpSum([qbs[f] * player_vars[f] for f in players]) == 1 \n",
    "prob += lpSum([rbs[f] * player_vars[f] for f in players]) >= 2\n",
    "prob += lpSum([rbs[f] * player_vars[f] for f in players]) <= 3\n",
    "prob += lpSum([wrs[f] * player_vars[f] for f in players]) >= 3\n",
    "prob += lpSum([wrs[f] * player_vars[f] for f in players]) <= 4\n",
    "prob += lpSum([tes[f] * player_vars[f] for f in players]) >= 1\n",
    "prob += lpSum([tes[f] * player_vars[f] for f in players]) <= 2\n",
    "prob += lpSum([defs[f] * player_vars[f] for f in players]) == 1\n",
    "prob += lpSum([player_count[f] * player_vars[f] for f in players]) == 9"
   ]
  },
  {
   "cell_type": "markdown",
   "metadata": {},
   "source": [
    "Solve problem"
   ]
  },
  {
   "cell_type": "code",
   "execution_count": 26,
   "metadata": {},
   "outputs": [
    {
     "data": {
      "text/plain": [
       "1"
      ]
     },
     "execution_count": 26,
     "metadata": {},
     "output_type": "execute_result"
    }
   ],
   "source": [
    "prob.solve()"
   ]
  },
  {
   "cell_type": "code",
   "execution_count": 30,
   "metadata": {},
   "outputs": [],
   "source": [
    "players_out = []\n",
    "\n",
    "for v in prob.variables():\n",
    "    if v.varValue>0:\n",
    "        players_out.append(int('-'.join(str(v).split('_')[1:])))\n",
    "        \n",
    "combined_df['keep'] = combined_df['ID'].apply(lambda x: 1 if x in players_out else 0)\n",
    "combined_df['value'] = combined_df['points']/combined_df['Salary']*1000"
   ]
  },
  {
   "cell_type": "code",
   "execution_count": 31,
   "metadata": {
    "scrolled": false
   },
   "outputs": [
    {
     "data": {
      "text/html": [
       "<div>\n",
       "<style scoped>\n",
       "    .dataframe tbody tr th:only-of-type {\n",
       "        vertical-align: middle;\n",
       "    }\n",
       "\n",
       "    .dataframe tbody tr th {\n",
       "        vertical-align: top;\n",
       "    }\n",
       "\n",
       "    .dataframe thead th {\n",
       "        text-align: right;\n",
       "    }\n",
       "</style>\n",
       "<table border=\"1\" class=\"dataframe\">\n",
       "  <thead>\n",
       "    <tr style=\"text-align: right;\">\n",
       "      <th></th>\n",
       "      <th>Position</th>\n",
       "      <th>Name + ID</th>\n",
       "      <th>Name</th>\n",
       "      <th>ID</th>\n",
       "      <th>Roster Position</th>\n",
       "      <th>Salary</th>\n",
       "      <th>Game Info</th>\n",
       "      <th>TeamAbbrev</th>\n",
       "      <th>AvgPointsPerGame</th>\n",
       "      <th>player_stat</th>\n",
       "      <th>team</th>\n",
       "      <th>points</th>\n",
       "      <th>keep</th>\n",
       "      <th>value</th>\n",
       "    </tr>\n",
       "  </thead>\n",
       "  <tbody>\n",
       "    <tr>\n",
       "      <th>0</th>\n",
       "      <td>WR</td>\n",
       "      <td>Justin Jefferson (25323474)</td>\n",
       "      <td>Justin Jefferson</td>\n",
       "      <td>25323474</td>\n",
       "      <td>WR/FLEX</td>\n",
       "      <td>9100</td>\n",
       "      <td>DAL@MIN 11/20/2022 04:25PM ET</td>\n",
       "      <td>MIN</td>\n",
       "      <td>25.25</td>\n",
       "      <td>Justin Jefferson</td>\n",
       "      <td>MIN</td>\n",
       "      <td>23.540000</td>\n",
       "      <td>1</td>\n",
       "      <td>2.586813</td>\n",
       "    </tr>\n",
       "    <tr>\n",
       "      <th>2</th>\n",
       "      <td>RB</td>\n",
       "      <td>Saquon Barkley (25323208)</td>\n",
       "      <td>Saquon Barkley</td>\n",
       "      <td>25323208</td>\n",
       "      <td>RB/FLEX</td>\n",
       "      <td>8900</td>\n",
       "      <td>DET@NYG 11/20/2022 01:00PM ET</td>\n",
       "      <td>NYG</td>\n",
       "      <td>21.31</td>\n",
       "      <td>Saquon Barkley</td>\n",
       "      <td>NYG</td>\n",
       "      <td>23.900000</td>\n",
       "      <td>1</td>\n",
       "      <td>2.685393</td>\n",
       "    </tr>\n",
       "    <tr>\n",
       "      <th>26</th>\n",
       "      <td>RB</td>\n",
       "      <td>Dameon Pierce (25323228)</td>\n",
       "      <td>Dameon Pierce</td>\n",
       "      <td>25323228</td>\n",
       "      <td>RB/FLEX</td>\n",
       "      <td>6500</td>\n",
       "      <td>WAS@HOU 11/20/2022 01:00PM ET</td>\n",
       "      <td>HOU</td>\n",
       "      <td>15.64</td>\n",
       "      <td>Dameon Pierce</td>\n",
       "      <td>HOU</td>\n",
       "      <td>16.490000</td>\n",
       "      <td>1</td>\n",
       "      <td>2.536923</td>\n",
       "    </tr>\n",
       "    <tr>\n",
       "      <th>57</th>\n",
       "      <td>QB</td>\n",
       "      <td>Marcus Mariota (25323149)</td>\n",
       "      <td>Marcus Mariota</td>\n",
       "      <td>25323149</td>\n",
       "      <td>QB</td>\n",
       "      <td>5500</td>\n",
       "      <td>CHI@ATL 11/20/2022 01:00PM ET</td>\n",
       "      <td>ATL</td>\n",
       "      <td>16.46</td>\n",
       "      <td>Marcus Mariota</td>\n",
       "      <td>PHI</td>\n",
       "      <td>16.660000</td>\n",
       "      <td>1</td>\n",
       "      <td>3.029091</td>\n",
       "    </tr>\n",
       "    <tr>\n",
       "      <th>115</th>\n",
       "      <td>WR</td>\n",
       "      <td>Garrett Wilson (25323538)</td>\n",
       "      <td>Garrett Wilson</td>\n",
       "      <td>25323538</td>\n",
       "      <td>WR/FLEX</td>\n",
       "      <td>4900</td>\n",
       "      <td>NYJ@NE 11/20/2022 01:00PM ET</td>\n",
       "      <td>NYJ</td>\n",
       "      <td>12.51</td>\n",
       "      <td>Garrett Wilson</td>\n",
       "      <td>NYJ</td>\n",
       "      <td>13.230000</td>\n",
       "      <td>1</td>\n",
       "      <td>2.700000</td>\n",
       "    </tr>\n",
       "    <tr>\n",
       "      <th>152</th>\n",
       "      <td>WR</td>\n",
       "      <td>Parris Campbell (25323564)</td>\n",
       "      <td>Parris Campbell</td>\n",
       "      <td>25323564</td>\n",
       "      <td>WR/FLEX</td>\n",
       "      <td>4300</td>\n",
       "      <td>PHI@IND 11/20/2022 01:00PM ET</td>\n",
       "      <td>IND</td>\n",
       "      <td>9.72</td>\n",
       "      <td>Parris Campbell</td>\n",
       "      <td>NYG</td>\n",
       "      <td>10.200000</td>\n",
       "      <td>1</td>\n",
       "      <td>2.372093</td>\n",
       "    </tr>\n",
       "    <tr>\n",
       "      <th>161</th>\n",
       "      <td>TE</td>\n",
       "      <td>Pat Freiermuth (25323916)</td>\n",
       "      <td>Pat Freiermuth</td>\n",
       "      <td>25323916</td>\n",
       "      <td>TE/FLEX</td>\n",
       "      <td>4200</td>\n",
       "      <td>CIN@PIT 11/20/2022 04:25PM ET</td>\n",
       "      <td>PIT</td>\n",
       "      <td>10.29</td>\n",
       "      <td>Pat Freiermuth</td>\n",
       "      <td>PIT</td>\n",
       "      <td>11.690000</td>\n",
       "      <td>1</td>\n",
       "      <td>2.783333</td>\n",
       "    </tr>\n",
       "    <tr>\n",
       "      <th>230</th>\n",
       "      <td>TE</td>\n",
       "      <td>Tyler Higbee (25323920)</td>\n",
       "      <td>Tyler Higbee</td>\n",
       "      <td>25323920</td>\n",
       "      <td>TE/FLEX</td>\n",
       "      <td>4000</td>\n",
       "      <td>LAR@NO 11/20/2022 01:00PM ET</td>\n",
       "      <td>LAR</td>\n",
       "      <td>9.17</td>\n",
       "      <td>Tyler Higbee</td>\n",
       "      <td>LAR</td>\n",
       "      <td>11.610000</td>\n",
       "      <td>1</td>\n",
       "      <td>2.902500</td>\n",
       "    </tr>\n",
       "    <tr>\n",
       "      <th>560</th>\n",
       "      <td>DST</td>\n",
       "      <td>Texans  (25324164)</td>\n",
       "      <td>Texans</td>\n",
       "      <td>25324164</td>\n",
       "      <td>DST</td>\n",
       "      <td>2400</td>\n",
       "      <td>WAS@HOU 11/20/2022 01:00PM ET</td>\n",
       "      <td>HOU</td>\n",
       "      <td>5.67</td>\n",
       "      <td>Texans</td>\n",
       "      <td>HOU</td>\n",
       "      <td>7.728571</td>\n",
       "      <td>1</td>\n",
       "      <td>3.220238</td>\n",
       "    </tr>\n",
       "  </tbody>\n",
       "</table>\n",
       "</div>"
      ],
      "text/plain": [
       "    Position                    Name + ID              Name        ID  \\\n",
       "0         WR  Justin Jefferson (25323474)  Justin Jefferson  25323474   \n",
       "2         RB    Saquon Barkley (25323208)    Saquon Barkley  25323208   \n",
       "26        RB     Dameon Pierce (25323228)     Dameon Pierce  25323228   \n",
       "57        QB    Marcus Mariota (25323149)    Marcus Mariota  25323149   \n",
       "115       WR    Garrett Wilson (25323538)    Garrett Wilson  25323538   \n",
       "152       WR   Parris Campbell (25323564)   Parris Campbell  25323564   \n",
       "161       TE    Pat Freiermuth (25323916)    Pat Freiermuth  25323916   \n",
       "230       TE      Tyler Higbee (25323920)      Tyler Higbee  25323920   \n",
       "560      DST           Texans  (25324164)            Texans  25324164   \n",
       "\n",
       "    Roster Position  Salary                      Game Info TeamAbbrev  \\\n",
       "0           WR/FLEX    9100  DAL@MIN 11/20/2022 04:25PM ET        MIN   \n",
       "2           RB/FLEX    8900  DET@NYG 11/20/2022 01:00PM ET        NYG   \n",
       "26          RB/FLEX    6500  WAS@HOU 11/20/2022 01:00PM ET        HOU   \n",
       "57               QB    5500  CHI@ATL 11/20/2022 01:00PM ET        ATL   \n",
       "115         WR/FLEX    4900   NYJ@NE 11/20/2022 01:00PM ET        NYJ   \n",
       "152         WR/FLEX    4300  PHI@IND 11/20/2022 01:00PM ET        IND   \n",
       "161         TE/FLEX    4200  CIN@PIT 11/20/2022 04:25PM ET        PIT   \n",
       "230         TE/FLEX    4000   LAR@NO 11/20/2022 01:00PM ET        LAR   \n",
       "560             DST    2400  WAS@HOU 11/20/2022 01:00PM ET        HOU   \n",
       "\n",
       "     AvgPointsPerGame       player_stat team     points  keep     value  \n",
       "0               25.25  Justin Jefferson  MIN  23.540000     1  2.586813  \n",
       "2               21.31    Saquon Barkley  NYG  23.900000     1  2.685393  \n",
       "26              15.64     Dameon Pierce  HOU  16.490000     1  2.536923  \n",
       "57              16.46    Marcus Mariota  PHI  16.660000     1  3.029091  \n",
       "115             12.51    Garrett Wilson  NYJ  13.230000     1  2.700000  \n",
       "152              9.72   Parris Campbell  NYG  10.200000     1  2.372093  \n",
       "161             10.29    Pat Freiermuth  PIT  11.690000     1  2.783333  \n",
       "230              9.17      Tyler Higbee  LAR  11.610000     1  2.902500  \n",
       "560              5.67            Texans  HOU   7.728571     1  3.220238  "
      ]
     },
     "execution_count": 31,
     "metadata": {},
     "output_type": "execute_result"
    }
   ],
   "source": [
    "combined_df[combined_df['keep']==1]"
   ]
  },
  {
   "cell_type": "code",
   "execution_count": 32,
   "metadata": {
    "scrolled": true
   },
   "outputs": [
    {
     "data": {
      "text/plain": [
       "49800"
      ]
     },
     "execution_count": 32,
     "metadata": {},
     "output_type": "execute_result"
    }
   ],
   "source": [
    "combined_df[combined_df['keep']==1]['Salary'].sum()"
   ]
  },
  {
   "cell_type": "code",
   "execution_count": 33,
   "metadata": {
    "scrolled": true
   },
   "outputs": [
    {
     "data": {
      "text/plain": [
       "135.04857142857145"
      ]
     },
     "execution_count": 33,
     "metadata": {},
     "output_type": "execute_result"
    }
   ],
   "source": [
    "combined_df[combined_df['keep']==1]['points'].sum()"
   ]
  }
 ],
 "metadata": {
  "kernelspec": {
   "display_name": "Python 3 (ipykernel)",
   "language": "python",
   "name": "python3"
  },
  "language_info": {
   "codemirror_mode": {
    "name": "ipython",
    "version": 3
   },
   "file_extension": ".py",
   "mimetype": "text/x-python",
   "name": "python",
   "nbconvert_exporter": "python",
   "pygments_lexer": "ipython3",
   "version": "3.7.3"
  }
 },
 "nbformat": 4,
 "nbformat_minor": 2
}
